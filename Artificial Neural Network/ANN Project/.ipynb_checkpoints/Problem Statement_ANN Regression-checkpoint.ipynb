{
 "cells": [
  {
   "cell_type": "markdown",
   "id": "afc06343",
   "metadata": {},
   "source": [
    "# Concrete Strength Prediction"
   ]
  },
  {
   "cell_type": "markdown",
   "id": "00dd9a84",
   "metadata": {},
   "source": [
    "## Abstract:\n",
    "        A Cement and Concrete Research company has gathered raw data regarding the concrete mixture and wants to analyze it. Concrete is the most important material in civil engineering. The concrete compressive strength is a highly nonlinear function of age and ingredients. These ingredients include cement, blast furnace slag, fly ash, water, superplasticizer, coarse aggregate, and fine aggregate. You are hired as a DL Engineer to help the company predict the concrete strength based on the data that they have gathered from a laboratory."
   ]
  },
  {
   "cell_type": "markdown",
   "id": "821f21a7",
   "metadata": {},
   "source": [
    "## Problem Statement:\n",
    "        Predict the actual concrete compressive strength (MPa) for a given mixture under a specific age (days) based on the data provided using ANN."
   ]
  },
  {
   "cell_type": "markdown",
   "id": "9a33df26",
   "metadata": {},
   "source": [
    "## Dataset Information:\n",
    "    1) Cement: kg in a m3 mixture\n",
    "    2) Blast Furnace Slag: kg in a m3 mixture\n",
    "    3) Fly Ash: kg in a m3 mixture\n",
    "    4) Water: kg in a m3 mixture\n",
    "    5) Coarse Aggregate: kg in a m3 mixture\n",
    "    6) Fine Aggregate: kg in a m3 mixture\n",
    "    7) Age: Day (1~365)\n",
    "    8) Concrete compressive strength: MPa (target variable)"
   ]
  },
  {
   "cell_type": "markdown",
   "id": "ae71d5f2",
   "metadata": {},
   "source": [
    "## Scope:\n",
    "        Exploratory data analysis\n",
    "        Data Pre-processing\n",
    "        Training ANN model for prediction\n",
    "        Tuning the model to improve the performance"
   ]
  },
  {
   "cell_type": "markdown",
   "id": "2e823ebb",
   "metadata": {},
   "source": [
    "## Learning Outcome:\n",
    "        The students will get a better understanding of how the variables are linked to each other and how the EDA approach will help them gain more insights and knowledge about the data that we have and train the ANN model and tune it to the best possible level."
   ]
  }
 ],
 "metadata": {
  "kernelspec": {
   "display_name": "Python 3 (ipykernel)",
   "language": "python",
   "name": "python3"
  },
  "language_info": {
   "codemirror_mode": {
    "name": "ipython",
    "version": 3
   },
   "file_extension": ".py",
   "mimetype": "text/x-python",
   "name": "python",
   "nbconvert_exporter": "python",
   "pygments_lexer": "ipython3",
   "version": "3.11.5"
  },
  "toc": {
   "base_numbering": 1,
   "nav_menu": {},
   "number_sections": true,
   "sideBar": true,
   "skip_h1_title": false,
   "title_cell": "Table of Contents",
   "title_sidebar": "Contents",
   "toc_cell": false,
   "toc_position": {},
   "toc_section_display": true,
   "toc_window_display": false
  }
 },
 "nbformat": 4,
 "nbformat_minor": 5
}
