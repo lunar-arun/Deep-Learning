{
 "cells": [
  {
   "cell_type": "markdown",
   "id": "bc278b0b",
   "metadata": {},
   "source": [
    "# Introduction to Artificial Neural Network"
   ]
  },
  {
   "cell_type": "markdown",
   "id": "5df80cec",
   "metadata": {},
   "source": [
    "    Artificial Neural Networks (ANNs) are computational models inspired by the structure and functioning of the human brain.\n",
    "    \n",
    "    As we know machine learning are used to solve task such as pattern recognition, classification, regression and more.\n",
    "    \n",
    "    ANNs consist of interconnected nodes, called neurons or units, organized in layers: input, hidden, and output layers.\n",
    "    \n",
    "    Components:\n",
    "        Neurons: \n",
    "            These are the basic units of an ANN. \n",
    "            These recieve inputs to which mathematical operation is done to produce an output.\n",
    "            Neurons are organized into layers, and each neuron in one layer is connected to the neurons in the next layer.\n",
    "        \n",
    "        Layers:\n",
    "            ANNs have three main types of layers: input, hidden, and output.\n",
    "                Input Layer: receives data\n",
    "                Hidden Layer: information is processed\n",
    "                Output Layer: produces the network's predicition or result\n",
    "\n",
    "        Weights and biases: \n",
    "            These are adjusted during the learning process to get better result.\n",
    "            \n",
    "        Activation functions:\n",
    "            This function introduces the non-linearity, allowing the network to model complex relationships within data."
   ]
  },
  {
   "cell_type": "markdown",
   "id": "8e7d7b6b",
   "metadata": {},
   "source": [
    "    Biological and Artificial Neurons"
   ]
  },
  {
   "cell_type": "markdown",
   "id": "cd8f300a",
   "metadata": {},
   "source": [
    "# Activation Functions"
   ]
  },
  {
   "cell_type": "markdown",
   "id": "2cec4b54",
   "metadata": {},
   "source": [
    "    Activation functions are crucial components within ANNs which introduces non-linearities to network's computations.\n",
    "    \n",
    "    They are applied to the output of each neuron, influencing whether and to what extent the neuron should be activated and its output passed to the next layer.\n",
    "    \n",
    "    \n",
    "    Sigmoid Function: \n",
    "$$ f(x) = \\frac{1}{1 + e^{-x}} $$\n",
    "        \n",
    "        Range: (0, 1)\n",
    "        \n",
    "        Outputs values between 0 and 1.\n",
    "        \n",
    "        Historically used in the hidden layers of neural networks, but less common now due to issues like vanishing gradients.\n",
    "        \n",
    "        \n",
    "    Hyperbolic Tangent (tanh): \n",
    "$$ f(x) = \\frac{e^{x} - e^{-x}}{e^{x} + e^{-x}} $$\n",
    "        \n",
    "        Range: (-1, 1)\n",
    "        \n",
    "        Similar to the sigmoid but outputs values between -1 and 1.\n",
    "        \n",
    "        Also prone to vanishing gradient problems.\n",
    "        \n",
    "        \n",
    "    Rectified Linear Unit (ReLU): \n",
    "$$ f(x) = \\max(0, x) $$\n",
    "        Range: [0, ∞)\n",
    "        \n",
    "        Outputs the input if it's positive, zero otherwise.\n",
    "        \n",
    "        Simple and computationally efficient, allowing for faster training. Widely used in hidden layers.\n",
    "        \n",
    "        \n",
    "        \n",
    "    Leaky ReLU: \n",
    "$$ f(x) = \\begin{cases} x & \\text{if } x > 0 \\\\ \\alpha x & \\text{otherwise} \\end{cases} $$\n",
    "        \n",
    "        Range: (-∞, ∞)\n",
    "        \n",
    "        Similar to ReLU but allows a small, non-zero gradient for negative inputs, addressing the \"dying ReLU\" problem.\n",
    "        \n",
    "    Exponential Linear Unit (ELU):\n",
    "$$ f(x) = \\begin{cases} x & \\text{if } x > 0 \\\\ \\alpha (e^{x} - 1) & \\text{otherwise} \\end{cases} $$\n",
    "    \n",
    "        Range: (-α, ∞)\n",
    "        \n",
    "        Similar to ReLU for positive values but with a smooth curve for negative values.\n",
    "        \n",
    "        Addresses some of the limitations of ReLU and its variants.\n",
    "        \n",
    "        \n",
    "        \n",
    "    Softmax Function:\n",
    "$$ f(x_i) = \\frac{e^{x_i}}{\\sum_{j=1}^{N} e^{x_j}} $$\n",
    "\n",
    "\n",
    "        Primarily used in the output layer of a neural network for multi-class classification.\n",
    "        \n",
    "        It squashes the outputs to a probability distribution over multiple classes, ensuring that the sum of probabilities is 1."
   ]
  },
  {
   "cell_type": "markdown",
   "id": "1bdbaec2",
   "metadata": {},
   "source": [
    "    Lets begin with simple ANN which is \"Perceptron\"\n",
    "        It's a single-layer neural network used for binary classification tasks, where it can distinguish between two classes."
   ]
  },
  {
   "cell_type": "markdown",
   "id": "03d508ce",
   "metadata": {},
   "source": []
  },
  {
   "cell_type": "markdown",
   "id": "a337bba9",
   "metadata": {},
   "source": []
  },
  {
   "cell_type": "markdown",
   "id": "8c7546ce",
   "metadata": {},
   "source": []
  },
  {
   "cell_type": "markdown",
   "id": "c9bc1be4",
   "metadata": {},
   "source": []
  },
  {
   "cell_type": "markdown",
   "id": "f66c154d",
   "metadata": {},
   "source": []
  },
  {
   "cell_type": "markdown",
   "id": "b72c0e74",
   "metadata": {},
   "source": []
  },
  {
   "cell_type": "markdown",
   "id": "bb1f28e9",
   "metadata": {},
   "source": []
  },
  {
   "cell_type": "markdown",
   "id": "ff72b38e",
   "metadata": {},
   "source": []
  },
  {
   "cell_type": "markdown",
   "id": "b193499f",
   "metadata": {},
   "source": []
  },
  {
   "cell_type": "markdown",
   "id": "e229f264",
   "metadata": {},
   "source": []
  },
  {
   "cell_type": "markdown",
   "id": "b6f31a8a",
   "metadata": {},
   "source": []
  },
  {
   "cell_type": "markdown",
   "id": "db0b1b27",
   "metadata": {},
   "source": []
  },
  {
   "cell_type": "code",
   "execution_count": null,
   "id": "b37b8142",
   "metadata": {},
   "outputs": [],
   "source": []
  }
 ],
 "metadata": {
  "kernelspec": {
   "display_name": "Python 3 (ipykernel)",
   "language": "python",
   "name": "python3"
  },
  "language_info": {
   "codemirror_mode": {
    "name": "ipython",
    "version": 3
   },
   "file_extension": ".py",
   "mimetype": "text/x-python",
   "name": "python",
   "nbconvert_exporter": "python",
   "pygments_lexer": "ipython3",
   "version": "3.11.5"
  },
  "toc": {
   "base_numbering": 1,
   "nav_menu": {},
   "number_sections": true,
   "sideBar": true,
   "skip_h1_title": false,
   "title_cell": "Table of Contents",
   "title_sidebar": "Contents",
   "toc_cell": false,
   "toc_position": {},
   "toc_section_display": true,
   "toc_window_display": false
  }
 },
 "nbformat": 4,
 "nbformat_minor": 5
}
