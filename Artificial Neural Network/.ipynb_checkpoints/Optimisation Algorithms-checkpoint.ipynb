{
 "cells": [
  {
   "cell_type": "markdown",
   "id": "408faeee",
   "metadata": {},
   "source": [
    "# Optimisation Algorithms"
   ]
  },
  {
   "cell_type": "markdown",
   "id": "68be1ab2",
   "metadata": {},
   "source": [
    "    These are crucial in training machine learning models, including neural networks, as they aim to minimize a chosen loss function by adjusting the model's parameters, such as weights and biases."
   ]
  },
  {
   "cell_type": "markdown",
   "id": "2d221a5b",
   "metadata": {},
   "source": [
    "## Gradient Descent"
   ]
  },
  {
   "cell_type": "markdown",
   "id": "d7bc6065",
   "metadata": {
    "ExecuteTime": {
     "end_time": "2023-12-01T18:54:32.670393Z",
     "start_time": "2023-12-01T18:54:32.666305Z"
    }
   },
   "source": [
    "### Stochastic Gradient Descent (SGD)"
   ]
  },
  {
   "cell_type": "markdown",
   "id": "bcb958de",
   "metadata": {},
   "source": [
    "### Mini-batch Gradient Descent"
   ]
  },
  {
   "cell_type": "markdown",
   "id": "6e64a158",
   "metadata": {},
   "source": [
    "## Adaptive Learning Rate Algorithms:"
   ]
  },
  {
   "cell_type": "markdown",
   "id": "23c4dccd",
   "metadata": {},
   "source": [
    "### Adagrad"
   ]
  },
  {
   "cell_type": "markdown",
   "id": "8379fad4",
   "metadata": {},
   "source": [
    "### RMSprop"
   ]
  },
  {
   "cell_type": "markdown",
   "id": "1eb0decb",
   "metadata": {},
   "source": [
    "### Adam (Adaptive Moment Estimation)"
   ]
  }
 ],
 "metadata": {
  "kernelspec": {
   "display_name": "Python 3 (ipykernel)",
   "language": "python",
   "name": "python3"
  },
  "language_info": {
   "codemirror_mode": {
    "name": "ipython",
    "version": 3
   },
   "file_extension": ".py",
   "mimetype": "text/x-python",
   "name": "python",
   "nbconvert_exporter": "python",
   "pygments_lexer": "ipython3",
   "version": "3.11.5"
  },
  "toc": {
   "base_numbering": 1,
   "nav_menu": {},
   "number_sections": true,
   "sideBar": true,
   "skip_h1_title": false,
   "title_cell": "Table of Contents",
   "title_sidebar": "Contents",
   "toc_cell": false,
   "toc_position": {},
   "toc_section_display": true,
   "toc_window_display": false
  }
 },
 "nbformat": 4,
 "nbformat_minor": 5
}
