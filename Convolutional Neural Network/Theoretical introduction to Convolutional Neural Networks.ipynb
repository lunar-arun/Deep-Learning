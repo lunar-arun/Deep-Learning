{
 "cells": [
  {
   "cell_type": "markdown",
   "id": "f2f257ca",
   "metadata": {},
   "source": [
    "## Introduction Convolutional Neural Networks"
   ]
  },
  {
   "cell_type": "markdown",
   "id": "f52376dc",
   "metadata": {},
   "source": [
    "    Convolutional Neural Networks (CNNs or ConvNets) are a class of deep neural networks primarily designed for analyzing visual data such as images and videos. \n",
    "    \n",
    "    A regularized type of feed-forward neural network that learns feature engineering by itself via filters optimization.\n",
    "    \n",
    "    Also known as Shift Invariant or Space Invariant Artificial Neural Networks (SIANN).\n",
    "    \n",
    "    CNNs are particularly useful for finding patterns in images to recognize objects, classes, and categories.\n",
    "    \n",
    "    \n",
    "    Architecture of CNN :\n",
    "        Input Layer\n",
    "        Convolutional Layers\n",
    "        Pooling Layers (MaxPooling, AveragePooling)\n",
    "        Fully Connected Layers (Dense Layers)\n",
    "        Output Layer\n",
    "```python\n",
    "from keras.models import Sequential\n",
    "from keras.layers import Conv2D, MaxPooling2D, Flatten, Dense\n",
    "\n",
    "model = Sequential()\n",
    "model.add(Conv2D(32, (3, 3), activation='relu', input_shape=(28, 28, 1)))\n",
    "model.add(MaxPooling2D((2, 2)))\n",
    "model.add(Conv2D(64, (3, 3), activation='relu'))\n",
    "model.add(MaxPooling2D((2, 2)))\n",
    "model.add(Conv2D(64, (3, 3), activation='relu')))\n",
    "model.add(Flatten())\n",
    "model.add(Dense(64, activation='relu'))\n",
    "model.add(Dense(10, activation='softmax'))\n",
    "```\n",
    "    Input Layer : As we know it should contain image data. Image data is represented by three dimensional matrix which is reshaped into a single column.\n",
    "        example :  image of dimension 28 x 28 =784, you need to convert it into 784 x 1 before feeding into input."
   ]
  },
  {
   "cell_type": "markdown",
   "id": "c1521f71",
   "metadata": {},
   "source": [
    "    Convolutional Layers:\n",
    "        These are the fundamental building blocks of CNNs are responsible for performing the convolution operation on input data.\n",
    "        They perform feature extraction, allowing the network to identify patterns, shapes and structure within the input data by applying filters/kernels to input images.\n",
    "        \n",
    "        Feature Detection :\n",
    "            Primary purpose of convolutional layers.\n",
    "            Identify important patterns with the input data.\n",
    "            \n",
    "        Filters/Kernels :\n",
    "            These are small-matrices that perform operations such as blurring, sharpening, edge detection, etc., on the input data.\n",
    "            These filters slide (convolve) across the input data, extracting relevant features by performing element-wise multiplications and additions.\n",
    "            \n",
    "        Stride and Padding\n",
    "            Stride: \n",
    "                It defines how much the filter/kernel moves across the input data at each step. A stride of 1 means the filter moves one pixel at a time. Larger strides reduce the spatial dimensions of the output.\n",
    "            Padding: \n",
    "                Padding adds additional pixels around the input data. It helps in preserving the spatial dimensions of the input volume as it moves through the layers. There are two common types of padding:\n",
    "                Valid Padding: \n",
    "                    No padding is added to the input data. The output dimensions are reduced.\n",
    "                Same Padding: \n",
    "                    Pad the input so that the output size is the same as the input size. This is usually achieved by adding zeros around the edges of the input."
   ]
  },
  {
   "cell_type": "markdown",
   "id": "59609bcb",
   "metadata": {},
   "source": [
    "    Pooling Layers:\n",
    "        This  play a crucial role in CNN s by reducing the spatial dimensions of the input volume, leading to a decreased computational load while retaining the most important features learned by the network.\n",
    "        \n",
    "        Max Pooling:\n",
    "            This selects the maximum value from a region of the input feature map. \n",
    "            \n",
    "            It helps in capturing the most active features in a particular region.\n",
    "            \n",
    "        Average Pooling:\n",
    "            This computes the average value from each region of the input feature map.\n",
    "            \n",
    "            It helps in reducing computational complexity while still maintaining important information."
   ]
  },
  {
   "cell_type": "markdown",
   "id": "d625aee7",
   "metadata": {},
   "source": []
  },
  {
   "cell_type": "markdown",
   "id": "e20cef1c",
   "metadata": {},
   "source": []
  },
  {
   "cell_type": "markdown",
   "id": "225fbfc8",
   "metadata": {},
   "source": []
  },
  {
   "cell_type": "markdown",
   "id": "0d6fe3cb",
   "metadata": {},
   "source": []
  },
  {
   "cell_type": "markdown",
   "id": "fd799103",
   "metadata": {},
   "source": []
  },
  {
   "cell_type": "markdown",
   "id": "4d67be60",
   "metadata": {},
   "source": []
  },
  {
   "cell_type": "markdown",
   "id": "1ab48c97",
   "metadata": {},
   "source": []
  },
  {
   "cell_type": "markdown",
   "id": "f9cd209a",
   "metadata": {},
   "source": []
  },
  {
   "cell_type": "markdown",
   "id": "4d199c3d",
   "metadata": {},
   "source": []
  },
  {
   "cell_type": "markdown",
   "id": "fff37462",
   "metadata": {},
   "source": []
  },
  {
   "cell_type": "markdown",
   "id": "d0f028f3",
   "metadata": {},
   "source": []
  }
 ],
 "metadata": {
  "kernelspec": {
   "display_name": "Python 3 (ipykernel)",
   "language": "python",
   "name": "python3"
  },
  "language_info": {
   "codemirror_mode": {
    "name": "ipython",
    "version": 3
   },
   "file_extension": ".py",
   "mimetype": "text/x-python",
   "name": "python",
   "nbconvert_exporter": "python",
   "pygments_lexer": "ipython3",
   "version": "3.11.5"
  },
  "toc": {
   "base_numbering": 1,
   "nav_menu": {},
   "number_sections": true,
   "sideBar": true,
   "skip_h1_title": false,
   "title_cell": "Table of Contents",
   "title_sidebar": "Contents",
   "toc_cell": false,
   "toc_position": {},
   "toc_section_display": true,
   "toc_window_display": false
  }
 },
 "nbformat": 4,
 "nbformat_minor": 5
}
